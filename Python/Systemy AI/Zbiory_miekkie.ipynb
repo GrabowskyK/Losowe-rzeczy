{
 "cells": [
  {
   "cell_type": "code",
   "execution_count": 63,
   "id": "bbb0a148",
   "metadata": {},
   "outputs": [],
   "source": [
    "kryteria = [\"świeże\", \"mrożone\", \"ostre\", \"słodkie\", \"zielone\", \"czerwone\", \"lokalne\", \"tropikalne\", \"liściaste\", \"bulwowe\"]"
   ]
  },
  {
   "cell_type": "code",
   "execution_count": 64,
   "id": "52bdbc26",
   "metadata": {},
   "outputs": [],
   "source": [
    "brokul = [\"brokul\", 1,0,0,0,1,0,1,0,1,0]\n",
    "marchewka = [\"marchewka\", 1,1,0,1,0,0,1,0,1,1]\n",
    "papryka = [\"papryka\", 1,0,1,0,0,1,1,0,0,0]\n",
    "ziemniaki = [\"ziemniaki\", 0,0,0,1,0,0,1,0,0,1]\n",
    "kapusta = [\"kapusta\", 1,0,0,0,1,0,1,0,1,0]\n",
    "kalafior = [\"kalafior\", 1,0,0,0,1,0,1,0,1,0]\n",
    "ogórek = [\"ogórek\", 1,0,0,0,1,0,1,0,1,0]\n",
    "cebula = [\"cebula\", 1,0,0,0,0,0,1,0,0,0]\n",
    "pomidor = [\"pomidor\", 1,0,0,1,0,1,1,0,0,0]\n",
    "A = [brokul, marchewka, papryka, ziemniaki, kapusta, kalafior, ogórek, cebula, pomidor]\n",
    "import numpy as np"
   ]
  },
  {
   "cell_type": "code",
   "execution_count": 110,
   "id": "9576902a",
   "metadata": {},
   "outputs": [],
   "source": [
    "labels = [[\"świeże\",0.7],[\"lokalne\",0.3],[\"słodkie\",0.2]]\n",
    "def find(A, labelsToFind):\n",
    "    index = []\n",
    "    for i in range(len(labelsToFind)):\n",
    "        index.append(kryteria.index(labelsToFind[i][0])+1)\n",
    "    \n",
    "    wartosc = 0\n",
    "    max_ = 0\n",
    "    itemsToReturn = []   \n",
    "    for j in range(len(A)):\n",
    "        for i in range(len(index)):\n",
    "            if A[j][index[i]] == 1:\n",
    "                wartosc += float(A[j][index[i]]) * float(labelsToFind[i][1])\n",
    "        if max_ == wartosc:\n",
    "            itemsToReturn.append(A[j][0])\n",
    "        elif max_ < wartosc:\n",
    "            max_ = wartosc\n",
    "            itemsToReturn = []\n",
    "            itemsToReturn.append(A[j][0])\n",
    "        wartosc = 0\n",
    "                   # wartosc += labelsToFind[j][1] * A[index[j]]\n",
    "    \n",
    "    return itemsToReturn\n"
   ]
  },
  {
   "cell_type": "code",
   "execution_count": 111,
   "id": "34b8cd90",
   "metadata": {},
   "outputs": [
    {
     "name": "stdout",
     "output_type": "stream",
     "text": [
      "['marchewka', 'pomidor']\n"
     ]
    }
   ],
   "source": [
    "print(find(A,labels))"
   ]
  },
  {
   "cell_type": "code",
   "execution_count": 88,
   "id": "08452b83",
   "metadata": {},
   "outputs": [
    {
     "name": "stdout",
     "output_type": "stream",
     "text": [
      "['brokul', 1, 0, 0, 0, 1, 0, 1, 0, 1, 0]\n",
      "['marchewka', 1, 1, 0, 1, 0, 0, 1, 0, 1, 1]\n",
      "['papryka', 1, 0, 1, 0, 0, 1, 1, 0, 0, 0]\n",
      "['ziemniaki', 0, 0, 0, 1, 0, 0, 1, 0, 0, 1]\n",
      "['kapusta', 1, 0, 0, 0, 1, 0, 1, 0, 1, 0]\n",
      "['kalafior', 1, 0, 0, 0, 1, 0, 1, 0, 1, 0]\n",
      "['ogórek', 1, 0, 0, 0, 1, 0, 1, 0, 1, 0]\n",
      "['cebuka', 1, 0, 0, 0, 0, 0, 1, 0, 0, 0]\n",
      "['pomidor', 1, 0, 0, 1, 0, 1, 1, 0, 0, 0]\n"
     ]
    }
   ],
   "source": [
    "for i in A:\n",
    "    print(i)"
   ]
  },
  {
   "cell_type": "code",
   "execution_count": null,
   "id": "d8278aab",
   "metadata": {},
   "outputs": [],
   "source": []
  }
 ],
 "metadata": {
  "kernelspec": {
   "display_name": "Python 3 (ipykernel)",
   "language": "python",
   "name": "python3"
  },
  "language_info": {
   "codemirror_mode": {
    "name": "ipython",
    "version": 3
   },
   "file_extension": ".py",
   "mimetype": "text/x-python",
   "name": "python",
   "nbconvert_exporter": "python",
   "pygments_lexer": "ipython3",
   "version": "3.9.13"
  }
 },
 "nbformat": 4,
 "nbformat_minor": 5
}
